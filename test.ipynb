{
 "cells": [
  {
   "cell_type": "code",
   "execution_count": 58,
   "metadata": {},
   "outputs": [
    {
     "name": "stdout",
     "output_type": "stream",
     "text": [
      "The autoreload extension is already loaded. To reload it, use:\n",
      "  %reload_ext autoreload\n",
      "c:\\\n",
      "c:\\\n"
     ]
    }
   ],
   "source": [
    "%load_ext autoreload\n",
    "%autoreload 2\n",
    "import os\n",
    "print(os.getcwd())\n",
    "to_run = True\n",
    "if to_run:\n",
    "    os.chdir('..')\n",
    "    to_run = False\n",
    "print(os.getcwd())"
   ]
  },
  {
   "cell_type": "code",
   "execution_count": 59,
   "metadata": {},
   "outputs": [
    {
     "name": "stdout",
     "output_type": "stream",
     "text": [
      "Viewing Hierarchical DCR"
     ]
    },
    {
     "name": "stderr",
     "output_type": "stream",
     "text": [
      "Warning: C -> proxy_N2: tail is inside head cluster cluster_N2\n"
     ]
    },
    {
     "name": "stdout",
     "output_type": "stream",
     "text": [
      "\n",
      "digraph {\n",
      "\tgraph [bgcolor=white compound=true pad=0.5 rankdir=LR]\n",
      "\tnode [shape=Mrecord]\n",
      "\tedge [arrowsize=0.5 labeldistance=0.0]\n",
      "\tproxyG [label=\"\" height=0.0 shape=point style=invis width=0.0]\n",
      "\tA [label=\"{  |   } | { A }\" font_size=12 style=solid]\n",
      "\tsubgraph cluster_N3 {\n",
      "\t\tlabel=N3\n",
      "\t\tproxy_N3 [label=\"\" height=0.0 shape=point style=invis width=0.0]\n",
      "\t\tF [label=\"{  |   } | { F }\" font_size=12 style=solid]\n",
      "\t\tE [label=\"{  |   } | { E }\" font_size=12 style=solid]\n",
      "\t}\n",
      "\tsubgraph cluster_N1 {\n",
      "\t\tlabel=N1\n",
      "\t\tproxy_N1 [label=\"\" height=0.0 shape=point style=invis width=0.0]\n",
      "\t\tsubgraph cluster_N2 {\n",
      "\t\t\tlabel=N2\n",
      "\t\t\tproxy_N2 [label=\"\" height=0.0 shape=point style=invis width=0.0]\n",
      "\t\t\tD [label=\"{  |  ! } | { D }\" font_size=12 style=solid]\n",
      "\t\t\tC [label=\"{  |   } | { C }\" font_size=12 style=solid]\n",
      "\t\t}\n",
      "\t\tB [label=\"{  |   } | { B }\" font_size=12 style=dashed]\n",
      "\t}\n",
      "\tA -> proxy_N1 [arrowhead=dotnormal color=\"#FFA500\" lhead=cluster_N1]\n",
      "\tproxy_N1 -> proxy_N3 [arrowhead=dotnormal color=\"#FFA500\" lhead=cluster_N3 ltail=cluster_N1]\n",
      "\tproxy_N2 -> proxy_N3 [arrowhead=normal arrowtail=dot color=\"#2993FC\" dir=both lhead=cluster_N3 ltail=cluster_N2]\n",
      "\tproxy_N3 -> B [arrowhead=normal arrowtail=none color=\"#30A627\" headlabel=\"+\" labelfontcolor=\"#30A627\" labelfontsize=10 ltail=cluster_N3]\n",
      "\tC -> proxy_N2 [arrowhead=normal arrowtail=none color=\"#FC0C1B\" headlabel=\"%\" labelfontcolor=\"#FC0C1B\" labelfontsize=8 lhead=cluster_N2]\n",
      "\toverlap=false\n",
      "}\n",
      "\n"
     ]
    },
    {
     "data": {
      "image/png": "[encoded data removed]",
      "text/plain": [
       "<IPython.core.display.Image object>"
      ]
     },
     "metadata": {},
     "output_type": "display_data"
    }
   ],
   "source": [
    "import pandas as pd\n",
    "import pm4py\n",
    "from ViewHierarchicalDcrGraph import View_HierarchicalDcr\n",
    "from pm4py.objects.dcr.hierarchical.obj import HierarchicalDcrGraph\n",
    "graph = HierarchicalDcrGraph()\n",
    "\n",
    "\n",
    "\n",
    "\n",
    "events = [\n",
    "    \"A\", \"B\", \"C\", \"D\", \"E\", \"F\"\n",
    "]\n",
    "\n",
    "groups = [    \n",
    "    \"N1\", \"N2\", \"N3\"\n",
    "]\n",
    "\n",
    "for event in events:\n",
    "    graph.events.add(event)\n",
    "    graph.labels.add(event)\n",
    "    graph.label_map[event] = event\n",
    "    graph.marking.included.add(event)\n",
    "\n",
    "\n",
    "for event in groups:\n",
    "    graph.events.add(event)\n",
    "    graph.labels.add(event)\n",
    "    graph.label_map[event] = event\n",
    "    #graph.nestedgroups_map[event] = event\n",
    "\n",
    "graph.nestedgroups[\"N1\"] =  {\"B\", \"N2\"} \n",
    "graph.nestedgroups[\"N2\"] =  {\"C\", \"D\"} \n",
    "graph.nestedgroups[\"N3\"] =  {\"E\", \"F\"} \n",
    "\n",
    "for group, events in graph.nestedgroups.items():\n",
    "    for e in events:\n",
    "        graph.nestedgroups_map[e] = group\n",
    "\n",
    "graph.marking.included.remove(\"B\")\n",
    "graph.marking.pending.add(\"D\")\n",
    "\n",
    "\n",
    "graph.conditions[\"N1\"] = {\"A\"}\n",
    "graph.conditions[\"N3\"] = {\"N1\"}\n",
    "\n",
    "graph.responses[\"N2\"] = {\"N3\"}\n",
    "\n",
    "graph.includes[\"N3\"] = {\"B\"}\n",
    "\n",
    "graph.excludes[\"C\"] = {\"N2\"}\n",
    "\n",
    "\n",
    "\n",
    "\n",
    "View_HierarchicalDcr(graph)\n",
    "\n"
   ]
  }
 ],
 "metadata": {
  "kernelspec": {
   "display_name": "Python 3",
   "language": "python",
   "name": "python3"
  },
  "language_info": {
   "codemirror_mode": {
    "name": "ipython",
    "version": 3
   },
   "file_extension": ".py",
   "mimetype": "text/x-python",
   "name": "python",
   "nbconvert_exporter": "python",
   "pygments_lexer": "ipython3",
   "version": "3.10.11"
  }
 },
 "nbformat": 4,
 "nbformat_minor": 2
}
